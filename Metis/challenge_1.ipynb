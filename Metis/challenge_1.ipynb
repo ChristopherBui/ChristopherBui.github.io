{
 "cells": [
  {
   "cell_type": "markdown",
   "metadata": {},
   "source": [
    "Topic:        Challenge Set 1\n",
    "Subject:      Explore MTA turnstile data\n",
    "Date:         07/09/2018\n",
    "Name:         Christopher Bui\n",
    "Worked with:  Jessica, Johnathan, Lauren"
   ]
  },
  {
   "cell_type": "code",
   "execution_count": 1,
   "metadata": {},
   "outputs": [
    {
     "name": "stdout",
     "output_type": "stream",
     "text": [
      "Python Version: 3.6.1 |Anaconda 4.4.0 (x86_64)| (default, May 11 2017, 13:04:09) \n",
      "[GCC 4.2.1 Compatible Apple LLVM 6.0 (clang-600.0.57)]\n"
     ]
    }
   ],
   "source": [
    "import sys\n",
    "print(\"Python Version:\", sys.version)"
   ]
  },
  {
   "cell_type": "markdown",
   "metadata": {},
   "source": [
    "### Challenge 1"
   ]
  },
  {
   "cell_type": "code",
   "execution_count": 226,
   "metadata": {
    "collapsed": true
   },
   "outputs": [],
   "source": [
    "import pandas as pd\n",
    "import numpy as np\n",
    "import matplotlib.pyplot as plt\n",
    "import datetime"
   ]
  },
  {
   "cell_type": "code",
   "execution_count": 227,
   "metadata": {
    "scrolled": true
   },
   "outputs": [
    {
     "data": {
      "text/html": [
       "<div>\n",
       "<style>\n",
       "    .dataframe thead tr:only-child th {\n",
       "        text-align: right;\n",
       "    }\n",
       "\n",
       "    .dataframe thead th {\n",
       "        text-align: left;\n",
       "    }\n",
       "\n",
       "    .dataframe tbody tr th {\n",
       "        vertical-align: top;\n",
       "    }\n",
       "</style>\n",
       "<table border=\"1\" class=\"dataframe\">\n",
       "  <thead>\n",
       "    <tr style=\"text-align: right;\">\n",
       "      <th></th>\n",
       "      <th>C/A</th>\n",
       "      <th>UNIT</th>\n",
       "      <th>SCP</th>\n",
       "      <th>STATION</th>\n",
       "      <th>LINENAME</th>\n",
       "      <th>DIVISION</th>\n",
       "      <th>DATE</th>\n",
       "      <th>TIME</th>\n",
       "      <th>DESC</th>\n",
       "      <th>ENTRIES</th>\n",
       "      <th>EXITS</th>\n",
       "    </tr>\n",
       "  </thead>\n",
       "  <tbody>\n",
       "    <tr>\n",
       "      <th>0</th>\n",
       "      <td>A002</td>\n",
       "      <td>R051</td>\n",
       "      <td>02-00-00</td>\n",
       "      <td>59 ST</td>\n",
       "      <td>NQR456W</td>\n",
       "      <td>BMT</td>\n",
       "      <td>06/09/2018</td>\n",
       "      <td>00:00:00</td>\n",
       "      <td>REGULAR</td>\n",
       "      <td>6649975</td>\n",
       "      <td>2254182</td>\n",
       "    </tr>\n",
       "  </tbody>\n",
       "</table>\n",
       "</div>"
      ],
      "text/plain": [
       "    C/A  UNIT       SCP STATION LINENAME DIVISION        DATE      TIME  \\\n",
       "0  A002  R051  02-00-00   59 ST  NQR456W      BMT  06/09/2018  00:00:00   \n",
       "\n",
       "      DESC  ENTRIES    EXITS  \n",
       "0  REGULAR  6649975  2254182  "
      ]
     },
     "execution_count": 227,
     "metadata": {},
     "output_type": "execute_result"
    }
   ],
   "source": [
    "#combine 3 mta turnstile csv's into 1 dataframe\n",
    "\n",
    "url_list = ['180616','180623','180630']\n",
    "frames = []\n",
    "\n",
    "for i in url_list:\n",
    "    url = 'http://web.mta.info/developers/data/nyct/turnstile/turnstile_{}.txt'.format(i)\n",
    "    frames.append(pd.read_csv(url))\n",
    "\n",
    "df = pd.concat(frames)\n",
    "\n",
    "#fix the 'EXITS' column formatting\n",
    "new_columns = df.columns.str.strip()\n",
    "df.columns = new_columns\n",
    "\n",
    "df.columns\n",
    "df.head(1)"
   ]
  },
  {
   "cell_type": "markdown",
   "metadata": {},
   "source": [
    "### Challenge 2"
   ]
  },
  {
   "cell_type": "code",
   "execution_count": 228,
   "metadata": {
    "collapsed": true
   },
   "outputs": [],
   "source": [
    "#combine DATE and TIME columns\n",
    "\n",
    "df['DATE TIME'] = df['DATE'] + ' ' + df['TIME']"
   ]
  },
  {
   "cell_type": "code",
   "execution_count": 229,
   "metadata": {
    "collapsed": true
   },
   "outputs": [],
   "source": [
    "#convert 'DATE TIME' column values to datetime type\n",
    "\n",
    "df['DATE TIME'] = df['DATE TIME'].apply(lambda x: datetime.datetime.strptime(x,'%m/%d/%Y %H:%M:%S'))"
   ]
  },
  {
   "cell_type": "code",
   "execution_count": 230,
   "metadata": {},
   "outputs": [
    {
     "name": "stdout",
     "output_type": "stream",
     "text": [
      "<class 'pandas.core.frame.DataFrame'>\n",
      "Int64Index: 590354 entries, 0 to 196689\n",
      "Data columns (total 11 columns):\n",
      "CA           590354 non-null object\n",
      "UNIT         590354 non-null object\n",
      "SCP          590354 non-null object\n",
      "STATION      590354 non-null object\n",
      "LINENAME     590354 non-null object\n",
      "DIVISION     590354 non-null object\n",
      "DESC         590354 non-null object\n",
      "ENTRIES      590354 non-null int64\n",
      "EXITS        590354 non-null int64\n",
      "DATE TIME    590354 non-null datetime64[ns]\n",
      "DATE         590354 non-null object\n",
      "dtypes: datetime64[ns](1), int64(2), object(8)\n",
      "memory usage: 54.0+ MB\n"
     ]
    }
   ],
   "source": [
    "#clean up dataframe\n",
    "df.drop(['DATE','TIME'], axis=1, inplace=True)\n",
    "df.dropna(axis=1, inplace=True)\n",
    "df.rename(columns={'C/A':'CA'},inplace=True)\n",
    "\n",
    "df['DATE'] = df['DATE TIME'].dt.date\n",
    "\n",
    "df.reset_index()\n",
    "df.info()"
   ]
  },
  {
   "cell_type": "code",
   "execution_count": 231,
   "metadata": {
    "collapsed": true
   },
   "outputs": [],
   "source": [
    "df.to_csv('mta_data.csv')"
   ]
  },
  {
   "cell_type": "code",
   "execution_count": 232,
   "metadata": {},
   "outputs": [
    {
     "data": {
      "text/html": [
       "<div>\n",
       "<style>\n",
       "    .dataframe thead tr:only-child th {\n",
       "        text-align: right;\n",
       "    }\n",
       "\n",
       "    .dataframe thead th {\n",
       "        text-align: left;\n",
       "    }\n",
       "\n",
       "    .dataframe tbody tr th {\n",
       "        vertical-align: top;\n",
       "    }\n",
       "</style>\n",
       "<table border=\"1\" class=\"dataframe\">\n",
       "  <thead>\n",
       "    <tr style=\"text-align: right;\">\n",
       "      <th></th>\n",
       "      <th>CA</th>\n",
       "      <th>UNIT</th>\n",
       "      <th>SCP</th>\n",
       "      <th>STATION</th>\n",
       "      <th>LINENAME</th>\n",
       "      <th>DIVISION</th>\n",
       "      <th>DESC</th>\n",
       "      <th>ENTRIES</th>\n",
       "      <th>EXITS</th>\n",
       "      <th>DATE TIME</th>\n",
       "      <th>DATE</th>\n",
       "    </tr>\n",
       "  </thead>\n",
       "  <tbody>\n",
       "    <tr>\n",
       "      <th>0</th>\n",
       "      <td>A002</td>\n",
       "      <td>R051</td>\n",
       "      <td>02-00-00</td>\n",
       "      <td>59 ST</td>\n",
       "      <td>NQR456W</td>\n",
       "      <td>BMT</td>\n",
       "      <td>REGULAR</td>\n",
       "      <td>6649975</td>\n",
       "      <td>2254182</td>\n",
       "      <td>2018-06-09 00:00:00</td>\n",
       "      <td>2018-06-09</td>\n",
       "    </tr>\n",
       "    <tr>\n",
       "      <th>1</th>\n",
       "      <td>A002</td>\n",
       "      <td>R051</td>\n",
       "      <td>02-00-00</td>\n",
       "      <td>59 ST</td>\n",
       "      <td>NQR456W</td>\n",
       "      <td>BMT</td>\n",
       "      <td>REGULAR</td>\n",
       "      <td>6650004</td>\n",
       "      <td>2254188</td>\n",
       "      <td>2018-06-09 04:00:00</td>\n",
       "      <td>2018-06-09</td>\n",
       "    </tr>\n",
       "    <tr>\n",
       "      <th>2</th>\n",
       "      <td>A002</td>\n",
       "      <td>R051</td>\n",
       "      <td>02-00-00</td>\n",
       "      <td>59 ST</td>\n",
       "      <td>NQR456W</td>\n",
       "      <td>BMT</td>\n",
       "      <td>REGULAR</td>\n",
       "      <td>6650022</td>\n",
       "      <td>2254209</td>\n",
       "      <td>2018-06-09 08:00:00</td>\n",
       "      <td>2018-06-09</td>\n",
       "    </tr>\n",
       "    <tr>\n",
       "      <th>3</th>\n",
       "      <td>A002</td>\n",
       "      <td>R051</td>\n",
       "      <td>02-00-00</td>\n",
       "      <td>59 ST</td>\n",
       "      <td>NQR456W</td>\n",
       "      <td>BMT</td>\n",
       "      <td>REGULAR</td>\n",
       "      <td>6650118</td>\n",
       "      <td>2254289</td>\n",
       "      <td>2018-06-09 12:00:00</td>\n",
       "      <td>2018-06-09</td>\n",
       "    </tr>\n",
       "    <tr>\n",
       "      <th>4</th>\n",
       "      <td>A002</td>\n",
       "      <td>R051</td>\n",
       "      <td>02-00-00</td>\n",
       "      <td>59 ST</td>\n",
       "      <td>NQR456W</td>\n",
       "      <td>BMT</td>\n",
       "      <td>REGULAR</td>\n",
       "      <td>6650332</td>\n",
       "      <td>2254345</td>\n",
       "      <td>2018-06-09 16:00:00</td>\n",
       "      <td>2018-06-09</td>\n",
       "    </tr>\n",
       "  </tbody>\n",
       "</table>\n",
       "</div>"
      ],
      "text/plain": [
       "     CA  UNIT       SCP STATION LINENAME DIVISION     DESC  ENTRIES    EXITS  \\\n",
       "0  A002  R051  02-00-00   59 ST  NQR456W      BMT  REGULAR  6649975  2254182   \n",
       "1  A002  R051  02-00-00   59 ST  NQR456W      BMT  REGULAR  6650004  2254188   \n",
       "2  A002  R051  02-00-00   59 ST  NQR456W      BMT  REGULAR  6650022  2254209   \n",
       "3  A002  R051  02-00-00   59 ST  NQR456W      BMT  REGULAR  6650118  2254289   \n",
       "4  A002  R051  02-00-00   59 ST  NQR456W      BMT  REGULAR  6650332  2254345   \n",
       "\n",
       "            DATE TIME        DATE  \n",
       "0 2018-06-09 00:00:00  2018-06-09  \n",
       "1 2018-06-09 04:00:00  2018-06-09  \n",
       "2 2018-06-09 08:00:00  2018-06-09  \n",
       "3 2018-06-09 12:00:00  2018-06-09  \n",
       "4 2018-06-09 16:00:00  2018-06-09  "
      ]
     },
     "execution_count": 232,
     "metadata": {},
     "output_type": "execute_result"
    }
   ],
   "source": [
    "df.head()"
   ]
  },
  {
   "cell_type": "markdown",
   "metadata": {},
   "source": [
    "### Challenge 3"
   ]
  },
  {
   "cell_type": "markdown",
   "metadata": {
    "collapsed": true
   },
   "source": [
    "There are counts for every 4 hours."
   ]
  },
  {
   "cell_type": "code",
   "execution_count": 233,
   "metadata": {
    "collapsed": true
   },
   "outputs": [],
   "source": [
    "#trying out aggregration function\n",
    "def daily_entries(x):\n",
    "    values = x.values\n",
    "    if len(values) > 2:\n",
    "        return values[-1] - values[0]\n",
    "    else:\n",
    "        return None\n",
    "    "
   ]
  },
  {
   "cell_type": "code",
   "execution_count": 279,
   "metadata": {},
   "outputs": [
    {
     "data": {
      "text/html": [
       "<div>\n",
       "<style>\n",
       "    .dataframe thead tr:only-child th {\n",
       "        text-align: right;\n",
       "    }\n",
       "\n",
       "    .dataframe thead th {\n",
       "        text-align: left;\n",
       "    }\n",
       "\n",
       "    .dataframe tbody tr th {\n",
       "        vertical-align: top;\n",
       "    }\n",
       "</style>\n",
       "<table border=\"1\" class=\"dataframe\">\n",
       "  <thead>\n",
       "    <tr style=\"text-align: right;\">\n",
       "      <th></th>\n",
       "      <th>TURNSTILE</th>\n",
       "      <th>DATE</th>\n",
       "      <th>ENTRIES</th>\n",
       "    </tr>\n",
       "  </thead>\n",
       "  <tbody>\n",
       "    <tr>\n",
       "      <th>0</th>\n",
       "      <td>A002 02-00-00</td>\n",
       "      <td>2018-06-09</td>\n",
       "      <td>604.0</td>\n",
       "    </tr>\n",
       "    <tr>\n",
       "      <th>1</th>\n",
       "      <td>A002 02-00-00</td>\n",
       "      <td>2018-06-10</td>\n",
       "      <td>480.0</td>\n",
       "    </tr>\n",
       "    <tr>\n",
       "      <th>2</th>\n",
       "      <td>A002 02-00-00</td>\n",
       "      <td>2018-06-11</td>\n",
       "      <td>1302.0</td>\n",
       "    </tr>\n",
       "    <tr>\n",
       "      <th>3</th>\n",
       "      <td>A002 02-00-00</td>\n",
       "      <td>2018-06-12</td>\n",
       "      <td>1246.0</td>\n",
       "    </tr>\n",
       "    <tr>\n",
       "      <th>4</th>\n",
       "      <td>A002 02-00-00</td>\n",
       "      <td>2018-06-13</td>\n",
       "      <td>1190.0</td>\n",
       "    </tr>\n",
       "  </tbody>\n",
       "</table>\n",
       "</div>"
      ],
      "text/plain": [
       "       TURNSTILE        DATE  ENTRIES\n",
       "0  A002 02-00-00  2018-06-09    604.0\n",
       "1  A002 02-00-00  2018-06-10    480.0\n",
       "2  A002 02-00-00  2018-06-11   1302.0\n",
       "3  A002 02-00-00  2018-06-12   1246.0\n",
       "4  A002 02-00-00  2018-06-13   1190.0"
      ]
     },
     "execution_count": 279,
     "metadata": {},
     "output_type": "execute_result"
    }
   ],
   "source": [
    "df['TURNSTILE'] = df['CA'] + ' ' + df['SCP']\n",
    "\n",
    "df = df.sort_values(['TURNSTILE','DATE'])\n",
    "df_day = df.groupby(['TURNSTILE','DATE'])\n",
    "\n",
    "\n",
    "#find daily entries\n",
    "df_daily_entries = df_day['ENTRIES'].agg(daily_entries).reset_index()\n",
    "df_daily_entries.head()"
   ]
  },
  {
   "cell_type": "markdown",
   "metadata": {},
   "source": [
    "### Challenge 4"
   ]
  },
  {
   "cell_type": "code",
   "execution_count": 235,
   "metadata": {},
   "outputs": [
    {
     "data": {
      "image/png": "[encoded data removed]",
      "text/plain": [
       "<matplotlib.figure.Figure at 0x14ad5e278>"
      ]
     },
     "metadata": {},
     "output_type": "display_data"
    }
   ],
   "source": [
    "#select for 1 turnstile\n",
    "df_turnstile = df_daily_entries[df_daily_entries['TURNSTILE'] == 'A002 02-00-00']\n",
    "\n",
    "df_turnstile.columns\n",
    "x_dates = df_turnstile['DATE']\n",
    "y_entries = df_turnstile['ENTRIES']\n",
    "\n",
    "plt.title('Sample of Daily Entries for 1 Turnstile')\n",
    "plt.xlabel('Dates')\n",
    "plt.ylabel('Entries',rotation=0)\n",
    "plt.plot(x_dates,y_entries)\n",
    "plt.xticks(rotation=45)\n",
    "plt.show()\n"
   ]
  },
  {
   "cell_type": "markdown",
   "metadata": {},
   "source": [
    "### Challenge 5"
   ]
  },
  {
   "cell_type": "code",
   "execution_count": 282,
   "metadata": {},
   "outputs": [
    {
     "data": {
      "text/html": [
       "<div>\n",
       "<style>\n",
       "    .dataframe thead tr:only-child th {\n",
       "        text-align: right;\n",
       "    }\n",
       "\n",
       "    .dataframe thead th {\n",
       "        text-align: left;\n",
       "    }\n",
       "\n",
       "    .dataframe tbody tr th {\n",
       "        vertical-align: top;\n",
       "    }\n",
       "</style>\n",
       "<table border=\"1\" class=\"dataframe\">\n",
       "  <thead>\n",
       "    <tr style=\"text-align: right;\">\n",
       "      <th></th>\n",
       "      <th></th>\n",
       "      <th></th>\n",
       "      <th></th>\n",
       "      <th>ENTRIES</th>\n",
       "    </tr>\n",
       "    <tr>\n",
       "      <th>CA</th>\n",
       "      <th>UNIT</th>\n",
       "      <th>STATION</th>\n",
       "      <th>DATE</th>\n",
       "      <th></th>\n",
       "    </tr>\n",
       "  </thead>\n",
       "  <tbody>\n",
       "    <tr>\n",
       "      <th rowspan=\"5\" valign=\"top\">A002</th>\n",
       "      <th rowspan=\"5\" valign=\"top\">R051</th>\n",
       "      <th rowspan=\"5\" valign=\"top\">59 ST</th>\n",
       "      <th>2018-06-09</th>\n",
       "      <td>6264.0</td>\n",
       "    </tr>\n",
       "    <tr>\n",
       "      <th>2018-06-10</th>\n",
       "      <td>5323.0</td>\n",
       "    </tr>\n",
       "    <tr>\n",
       "      <th>2018-06-11</th>\n",
       "      <td>11183.0</td>\n",
       "    </tr>\n",
       "    <tr>\n",
       "      <th>2018-06-12</th>\n",
       "      <td>11546.0</td>\n",
       "    </tr>\n",
       "    <tr>\n",
       "      <th>2018-06-13</th>\n",
       "      <td>11420.0</td>\n",
       "    </tr>\n",
       "  </tbody>\n",
       "</table>\n",
       "</div>"
      ],
      "text/plain": [
       "                              ENTRIES\n",
       "CA   UNIT STATION DATE               \n",
       "A002 R051 59 ST   2018-06-09   6264.0\n",
       "                  2018-06-10   5323.0\n",
       "                  2018-06-11  11183.0\n",
       "                  2018-06-12  11546.0\n",
       "                  2018-06-13  11420.0"
      ]
     },
     "execution_count": 282,
     "metadata": {},
     "output_type": "execute_result"
    }
   ],
   "source": [
    "df2 = df.sort_values(['DATE','TURNSTILE'])\n",
    "df2_group_turnstiles = df2.groupby(['CA','UNIT','STATION','DATE','TURNSTILE'])\n",
    "\n",
    "df2_entries = df2_group_turnstiles['ENTRIES'].agg(daily_entries).reset_index()\n",
    "df2_entries.head()\n",
    "\n",
    "df2_sum_turnstiles = df2_entries.groupby(['CA','UNIT','STATION','DATE']).sum()\n",
    "df2_sum_turnstiles.head()"
   ]
  },
  {
   "cell_type": "markdown",
   "metadata": {},
   "source": [
    "### Challenge 6"
   ]
  },
  {
   "cell_type": "code",
   "execution_count": 277,
   "metadata": {},
   "outputs": [
    {
     "data": {
      "text/html": [
       "<div>\n",
       "<style>\n",
       "    .dataframe thead tr:only-child th {\n",
       "        text-align: right;\n",
       "    }\n",
       "\n",
       "    .dataframe thead th {\n",
       "        text-align: left;\n",
       "    }\n",
       "\n",
       "    .dataframe tbody tr th {\n",
       "        vertical-align: top;\n",
       "    }\n",
       "</style>\n",
       "<table border=\"1\" class=\"dataframe\">\n",
       "  <thead>\n",
       "    <tr style=\"text-align: right;\">\n",
       "      <th></th>\n",
       "      <th></th>\n",
       "      <th>ENTRIES</th>\n",
       "    </tr>\n",
       "    <tr>\n",
       "      <th>STATION</th>\n",
       "      <th>DATE</th>\n",
       "      <th></th>\n",
       "    </tr>\n",
       "  </thead>\n",
       "  <tbody>\n",
       "    <tr>\n",
       "      <th rowspan=\"5\" valign=\"top\">1 AV</th>\n",
       "      <th>2018-06-09</th>\n",
       "      <td>15092.0</td>\n",
       "    </tr>\n",
       "    <tr>\n",
       "      <th>2018-06-10</th>\n",
       "      <td>11672.0</td>\n",
       "    </tr>\n",
       "    <tr>\n",
       "      <th>2018-06-11</th>\n",
       "      <td>18084.0</td>\n",
       "    </tr>\n",
       "    <tr>\n",
       "      <th>2018-06-12</th>\n",
       "      <td>18848.0</td>\n",
       "    </tr>\n",
       "    <tr>\n",
       "      <th>2018-06-13</th>\n",
       "      <td>18948.0</td>\n",
       "    </tr>\n",
       "  </tbody>\n",
       "</table>\n",
       "</div>"
      ],
      "text/plain": [
       "                    ENTRIES\n",
       "STATION DATE               \n",
       "1 AV    2018-06-09  15092.0\n",
       "        2018-06-10  11672.0\n",
       "        2018-06-11  18084.0\n",
       "        2018-06-12  18848.0\n",
       "        2018-06-13  18948.0"
      ]
     },
     "execution_count": 277,
     "metadata": {},
     "output_type": "execute_result"
    }
   ],
   "source": [
    "df2_station_turnstiles = df2.groupby(['STATION','DATE','TURNSTILE'])\n",
    "df2_station_entries = df2_station_turnstiles['ENTRIES'].agg(daily_entries).reset_index()\n",
    "\n",
    "df2_station_entries.head()\n",
    "df2_station_sum = df2_station_entries.groupby(['STATION','DATE']).sum()\n",
    "\n",
    "df2_station_sum.head()"
   ]
  },
  {
   "cell_type": "markdown",
   "metadata": {},
   "source": [
    "### Challenge 7"
   ]
  },
  {
   "cell_type": "code",
   "execution_count": 298,
   "metadata": {},
   "outputs": [
    {
     "name": "stdout",
     "output_type": "stream",
     "text": [
      "            ENTRIES\n",
      "DATE               \n",
      "2018-06-09  15092.0\n",
      "2018-06-10  11672.0\n",
      "2018-06-11  18084.0\n",
      "2018-06-12  18848.0\n",
      "2018-06-13  18948.0\n"
     ]
    },
    {
     "data": {
      "image/png": "[encoded data removed]",
      "text/plain": [
       "<matplotlib.figure.Figure at 0x1803d6e10>"
      ]
     },
     "metadata": {},
     "output_type": "display_data"
    }
   ],
   "source": [
    "AV1 = df2_station_sum.loc['1 AV']\n",
    "print(AV1.head())\n",
    "\n",
    "x_station = AV1.index\n",
    "y_station = AV1['ENTRIES']\n",
    "\n",
    "plt.plot(x_station,y_station)\n",
    "plt.xticks(rotation = 45)\n",
    "plt.title('1 AV Station Daily Entries')\n",
    "plt.show()"
   ]
  },
  {
   "cell_type": "markdown",
   "metadata": {},
   "source": [
    "### Challenge 8"
   ]
  },
  {
   "cell_type": "code",
   "execution_count": 306,
   "metadata": {},
   "outputs": [
    {
     "name": "stdout",
     "output_type": "stream",
     "text": [
      "            ENTRIES\n",
      "DATE               \n",
      "2018-06-09  15092.0\n",
      "2018-06-10  11672.0\n",
      "2018-06-11  18084.0\n",
      "2018-06-12  18848.0\n",
      "2018-06-13  18948.0\n",
      "2018-06-14  19411.0\n",
      "2018-06-15  18035.0\n",
      "2018-06-16  14160.0\n",
      "2018-06-17  10770.0\n",
      "2018-06-18  17287.0\n",
      "2018-06-19  16676.0\n",
      "2018-06-20  18440.0\n",
      "2018-06-21  18785.0\n",
      "2018-06-22  18682.0\n",
      "2018-06-23  13603.0\n",
      "2018-06-24  13664.0\n",
      "2018-06-25  16913.0\n",
      "2018-06-26  17616.0\n",
      "2018-06-27  17258.0\n",
      "2018-06-28  17511.0\n",
      "2018-06-29  17774.0\n"
     ]
    }
   ],
   "source": [
    "print(AV1)"
   ]
  },
  {
   "cell_type": "code",
   "execution_count": 343,
   "metadata": {},
   "outputs": [
    {
     "data": {
      "image/png": "[encoded data removed]",
      "text/plain": [
       "<matplotlib.figure.Figure at 0x16eaf7048>"
      ]
     },
     "metadata": {},
     "output_type": "display_data"
    }
   ],
   "source": [
    "#0-7, 7-14, 14,21\n",
    "week1_date = list(range(7))\n",
    "week2_date = list(range(7))\n",
    "week3_date = list(range(7))\n",
    "\n",
    "week1_entries = y_station[0:7]\n",
    "week2_entries = y_station[7:14]\n",
    "week3_entries = y_station[14:21]\n",
    "\n",
    "plt.plot(week1_date, week1_entries, marker='o')\n",
    "plt.plot(week2_date, week2_entries, marker='o')\n",
    "plt.plot(week3_date, week3_entries, marker='o')\n",
    "\n",
    "xspace = np.linspace(0,7,7)\n",
    "days = ['SAT','SUN','MON','TUE','WED','THUR','FRI']\n",
    "plt.xticks(xspace,days)\n",
    "plt.title('Total Daily Traffic for 1 Station Over 3 Weeks')\n",
    "    \n",
    "plt.show()\n",
    "    \n",
    "    "
   ]
  },
  {
   "cell_type": "markdown",
   "metadata": {},
   "source": [
    "### Challenge 9"
   ]
  },
  {
   "cell_type": "code",
   "execution_count": 356,
   "metadata": {},
   "outputs": [
    {
     "data": {
      "text/html": [
       "<div>\n",
       "<style>\n",
       "    .dataframe thead tr:only-child th {\n",
       "        text-align: right;\n",
       "    }\n",
       "\n",
       "    .dataframe thead th {\n",
       "        text-align: left;\n",
       "    }\n",
       "\n",
       "    .dataframe tbody tr th {\n",
       "        vertical-align: top;\n",
       "    }\n",
       "</style>\n",
       "<table border=\"1\" class=\"dataframe\">\n",
       "  <thead>\n",
       "    <tr style=\"text-align: right;\">\n",
       "      <th></th>\n",
       "      <th>ENTRIES</th>\n",
       "    </tr>\n",
       "    <tr>\n",
       "      <th>STATION</th>\n",
       "      <th></th>\n",
       "    </tr>\n",
       "  </thead>\n",
       "  <tbody>\n",
       "    <tr>\n",
       "      <th>182-183 STS</th>\n",
       "      <td>1.482225e+09</td>\n",
       "    </tr>\n",
       "    <tr>\n",
       "      <th>190 ST</th>\n",
       "      <td>1.431714e+09</td>\n",
       "    </tr>\n",
       "    <tr>\n",
       "      <th>BRONX PARK EAST</th>\n",
       "      <td>9.860595e+08</td>\n",
       "    </tr>\n",
       "    <tr>\n",
       "      <th>KINGSBRIDGE RD</th>\n",
       "      <td>7.021487e+08</td>\n",
       "    </tr>\n",
       "    <tr>\n",
       "      <th>TREMONT AV</th>\n",
       "      <td>1.003976e+08</td>\n",
       "    </tr>\n",
       "  </tbody>\n",
       "</table>\n",
       "</div>"
      ],
      "text/plain": [
       "                      ENTRIES\n",
       "STATION                      \n",
       "182-183 STS      1.482225e+09\n",
       "190 ST           1.431714e+09\n",
       "BRONX PARK EAST  9.860595e+08\n",
       "KINGSBRIDGE RD   7.021487e+08\n",
       "TREMONT AV       1.003976e+08"
      ]
     },
     "execution_count": 356,
     "metadata": {},
     "output_type": "execute_result"
    }
   ],
   "source": [
    "all_stations = df2_station_entries.groupby(['STATION']).sum()\n",
    "all_stations.head()\n",
    "\n",
    "all_stations.sort_values('ENTRIES', ascending=False,inplace=True)\n",
    "all_stations = all_stations[all_stations['ENTRIES'] > 0]\n",
    "\n",
    "all_stations.head()"
   ]
  },
  {
   "cell_type": "markdown",
   "metadata": {},
   "source": [
    "### Challenge 10"
   ]
  },
  {
   "cell_type": "code",
   "execution_count": 374,
   "metadata": {},
   "outputs": [
    {
     "data": {
      "image/png": "[encoded data removed]",
      "text/plain": [
       "<matplotlib.figure.Figure at 0x1c7c83160>"
      ]
     },
     "metadata": {},
     "output_type": "display_data"
    }
   ],
   "source": [
    "indices = range(len(all_stations))\n",
    "all_stations_entries = all_stations['ENTRIES']\n",
    "plt.hist(all_stations_entries, bins = 50)\n",
    "plt.show()"
   ]
  }
 ],
 "metadata": {
  "anaconda-cloud": {},
  "kernelspec": {
   "display_name": "Python 3",
   "language": "python",
   "name": "python3"
  },
  "language_info": {
   "codemirror_mode": {
    "name": "ipython",
    "version": 3
   },
   "file_extension": ".py",
   "mimetype": "text/x-python",
   "name": "python",
   "nbconvert_exporter": "python",
   "pygments_lexer": "ipython3",
   "version": "3.6.1"
  }
 },
 "nbformat": 4,
 "nbformat_minor": 1
}
